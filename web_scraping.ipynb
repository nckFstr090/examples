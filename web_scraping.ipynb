{
 "cells": [
  {
   "cell_type": "markdown",
   "metadata": {},
   "source": [
    "Here is the code of the script, which download headers from Wikipedia (page about Python for example)."
   ]
  },
  {
   "cell_type": "code",
   "execution_count": 55,
   "metadata": {},
   "outputs": [
    {
     "name": "stdout",
     "output_type": "stream",
     "text": [
      "History\n",
      "Features_and_philosophy\n",
      "Syntax_and_semantics\n",
      "Indentation\n",
      "Statements_and_control_flow\n",
      "Expressions\n",
      "Methods\n",
      "Typing\n",
      "Mathematics\n",
      "Libraries\n",
      "Development_environments\n",
      "Implementations\n",
      "Reference_implementation\n",
      "Other_implementations\n",
      "Unsupported_implementations\n",
      "Cross-compilers_to_other_languages\n",
      "Performance\n",
      "Development\n",
      "Naming\n",
      "Uses\n",
      "Languages_influenced_by_Python\n",
      "See_also\n",
      "References\n",
      "Further_reading\n",
      "External_links\n"
     ]
    }
   ],
   "source": [
    "import urllib.request as ul\n",
    "\n",
    "page = \"https://en.wikipedia.org/wiki/Python_(programming_language)\"\n",
    "to_find = 'class=\"mw-headline\"'\n",
    "\n",
    "s, l = str(ul.urlopen(page).read()), s.find(to_find)\n",
    "while l != -1:\n",
    "    s = s[l + len(to_find):-1]\n",
    "    b = s.find('\"') + 1\n",
    "    print(s[b: b + s[b:].find('\"')])\n",
    "    l = s.find(to_find)"
   ]
  },
  {
   "cell_type": "code",
   "execution_count": null,
   "metadata": {},
   "outputs": [],
   "source": []
  }
 ],
 "metadata": {
  "kernelspec": {
   "display_name": "Python 3",
   "language": "python",
   "name": "python3"
  },
  "language_info": {
   "codemirror_mode": {
    "name": "ipython",
    "version": 3
   },
   "file_extension": ".py",
   "mimetype": "text/x-python",
   "name": "python",
   "nbconvert_exporter": "python",
   "pygments_lexer": "ipython3",
   "version": "3.6.3"
  }
 },
 "nbformat": 4,
 "nbformat_minor": 2
}
